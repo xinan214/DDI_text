{
 "cells": [
  {
   "cell_type": "code",
   "execution_count": 1,
   "id": "48d642d7-bd76-49ce-8c40-bbbba5852f0d",
   "metadata": {},
   "outputs": [
    {
     "ename": "ModuleNotFoundError",
     "evalue": "No module named 'pandas'",
     "output_type": "error",
     "traceback": [
      "\u001b[0;31m---------------------------------------------------------------------------\u001b[0m",
      "\u001b[0;31mModuleNotFoundError\u001b[0m                       Traceback (most recent call last)",
      "\u001b[0;32m/tmp/ipykernel_2993/1674215205.py\u001b[0m in \u001b[0;36m<module>\u001b[0;34m\u001b[0m\n\u001b[1;32m      1\u001b[0m \u001b[0;32mimport\u001b[0m \u001b[0mos\u001b[0m\u001b[0;34m\u001b[0m\u001b[0;34m\u001b[0m\u001b[0m\n\u001b[1;32m      2\u001b[0m \u001b[0;34m\u001b[0m\u001b[0m\n\u001b[0;32m----> 3\u001b[0;31m \u001b[0;32mimport\u001b[0m \u001b[0mpandas\u001b[0m \u001b[0;32mas\u001b[0m \u001b[0mpd\u001b[0m\u001b[0;34m\u001b[0m\u001b[0;34m\u001b[0m\u001b[0m\n\u001b[0m",
      "\u001b[0;31mModuleNotFoundError\u001b[0m: No module named 'pandas'"
     ]
    }
   ],
   "source": [
    "import os\n",
    "\n",
    "import pandas as pd"
   ]
  },
  {
   "cell_type": "code",
   "execution_count": 2,
   "id": "22509a2c-170c-42f7-ab4a-b8f817747ba6",
   "metadata": {},
   "outputs": [
    {
     "data": {
      "text/html": [
       "<div>\n",
       "<style scoped>\n",
       "    .dataframe tbody tr th:only-of-type {\n",
       "        vertical-align: middle;\n",
       "    }\n",
       "\n",
       "    .dataframe tbody tr th {\n",
       "        vertical-align: top;\n",
       "    }\n",
       "\n",
       "    .dataframe thead th {\n",
       "        text-align: right;\n",
       "    }\n",
       "</style>\n",
       "<table border=\"1\" class=\"dataframe\">\n",
       "  <thead>\n",
       "    <tr style=\"text-align: right;\">\n",
       "      <th></th>\n",
       "      <th>Drug A</th>\n",
       "      <th>Drug B</th>\n",
       "      <th>DDI type</th>\n",
       "      <th>DDI sentence</th>\n",
       "    </tr>\n",
       "  </thead>\n",
       "  <tbody>\n",
       "    <tr>\n",
       "      <th>0</th>\n",
       "      <td>Nifedipine</td>\n",
       "      <td>Bopindolol</td>\n",
       "      <td>1</td>\n",
       "      <td>The risk or severity of congestive heart failu...</td>\n",
       "    </tr>\n",
       "    <tr>\n",
       "      <th>1</th>\n",
       "      <td>Nifedipine</td>\n",
       "      <td>Esmolol</td>\n",
       "      <td>1</td>\n",
       "      <td>The risk or severity of congestive heart failu...</td>\n",
       "    </tr>\n",
       "    <tr>\n",
       "      <th>2</th>\n",
       "      <td>Nifedipine</td>\n",
       "      <td>Terbutaline</td>\n",
       "      <td>1</td>\n",
       "      <td>The risk or severity of congestive heart failu...</td>\n",
       "    </tr>\n",
       "    <tr>\n",
       "      <th>3</th>\n",
       "      <td>Nifedipine</td>\n",
       "      <td>Bevantolol</td>\n",
       "      <td>1</td>\n",
       "      <td>The risk or severity of congestive heart failu...</td>\n",
       "    </tr>\n",
       "    <tr>\n",
       "      <th>4</th>\n",
       "      <td>Nifedipine</td>\n",
       "      <td>Practolol</td>\n",
       "      <td>1</td>\n",
       "      <td>The risk or severity of congestive heart failu...</td>\n",
       "    </tr>\n",
       "  </tbody>\n",
       "</table>\n",
       "</div>"
      ],
      "text/plain": [
       "       Drug A       Drug B  DDI type   \n",
       "0  Nifedipine   Bopindolol         1  \\\n",
       "1  Nifedipine      Esmolol         1   \n",
       "2  Nifedipine  Terbutaline         1   \n",
       "3  Nifedipine   Bevantolol         1   \n",
       "4  Nifedipine    Practolol         1   \n",
       "\n",
       "                                        DDI sentence  \n",
       "0  The risk or severity of congestive heart failu...  \n",
       "1  The risk or severity of congestive heart failu...  \n",
       "2  The risk or severity of congestive heart failu...  \n",
       "3  The risk or severity of congestive heart failu...  \n",
       "4  The risk or severity of congestive heart failu...  "
      ]
     },
     "execution_count": 2,
     "metadata": {},
     "output_type": "execute_result"
    }
   ],
   "source": [
    "df = pd.read_excel('Supplementary_Information/Supplementary Data 1.xlsx')\n",
    "df.head()"
   ]
  },
  {
   "cell_type": "markdown",
   "id": "0c5b2868-a30e-4dec-9691-90d2e17ebb6b",
   "metadata": {},
   "source": [
    "# 计算句子长度"
   ]
  },
  {
   "cell_type": "code",
   "execution_count": 4,
   "id": "5ef0c09f-6a33-473c-8179-5814b0bee7ba",
   "metadata": {},
   "outputs": [],
   "source": [
    "def cal_length(s):\n",
    "    sptlist = s.strip().split(' ')\n",
    "    return len(sptlist)"
   ]
  },
  {
   "cell_type": "code",
   "execution_count": 5,
   "id": "1ddcafb5-7786-4cdc-8bfa-6e88c4f0674b",
   "metadata": {},
   "outputs": [
    {
     "data": {
      "text/plain": [
       "3"
      ]
     },
     "execution_count": 5,
     "metadata": {},
     "output_type": "execute_result"
    }
   ],
   "source": [
    "cal_length(\"i love you\")"
   ]
  },
  {
   "cell_type": "code",
   "execution_count": 6,
   "id": "f7e16237-195e-482a-a66e-2a487aacdd68",
   "metadata": {},
   "outputs": [
    {
     "data": {
      "text/html": [
       "<div>\n",
       "<style scoped>\n",
       "    .dataframe tbody tr th:only-of-type {\n",
       "        vertical-align: middle;\n",
       "    }\n",
       "\n",
       "    .dataframe tbody tr th {\n",
       "        vertical-align: top;\n",
       "    }\n",
       "\n",
       "    .dataframe thead th {\n",
       "        text-align: right;\n",
       "    }\n",
       "</style>\n",
       "<table border=\"1\" class=\"dataframe\">\n",
       "  <thead>\n",
       "    <tr style=\"text-align: right;\">\n",
       "      <th></th>\n",
       "      <th>Drug A</th>\n",
       "      <th>Drug B</th>\n",
       "      <th>DDI type</th>\n",
       "      <th>DDI sentence</th>\n",
       "      <th>num_of_words</th>\n",
       "    </tr>\n",
       "  </thead>\n",
       "  <tbody>\n",
       "    <tr>\n",
       "      <th>0</th>\n",
       "      <td>Nifedipine</td>\n",
       "      <td>Bopindolol</td>\n",
       "      <td>1</td>\n",
       "      <td>The risk or severity of congestive heart failu...</td>\n",
       "      <td>19</td>\n",
       "    </tr>\n",
       "    <tr>\n",
       "      <th>1</th>\n",
       "      <td>Nifedipine</td>\n",
       "      <td>Esmolol</td>\n",
       "      <td>1</td>\n",
       "      <td>The risk or severity of congestive heart failu...</td>\n",
       "      <td>19</td>\n",
       "    </tr>\n",
       "    <tr>\n",
       "      <th>2</th>\n",
       "      <td>Nifedipine</td>\n",
       "      <td>Terbutaline</td>\n",
       "      <td>1</td>\n",
       "      <td>The risk or severity of congestive heart failu...</td>\n",
       "      <td>19</td>\n",
       "    </tr>\n",
       "    <tr>\n",
       "      <th>3</th>\n",
       "      <td>Nifedipine</td>\n",
       "      <td>Bevantolol</td>\n",
       "      <td>1</td>\n",
       "      <td>The risk or severity of congestive heart failu...</td>\n",
       "      <td>19</td>\n",
       "    </tr>\n",
       "    <tr>\n",
       "      <th>4</th>\n",
       "      <td>Nifedipine</td>\n",
       "      <td>Practolol</td>\n",
       "      <td>1</td>\n",
       "      <td>The risk or severity of congestive heart failu...</td>\n",
       "      <td>19</td>\n",
       "    </tr>\n",
       "  </tbody>\n",
       "</table>\n",
       "</div>"
      ],
      "text/plain": [
       "       Drug A       Drug B  DDI type   \n",
       "0  Nifedipine   Bopindolol         1  \\\n",
       "1  Nifedipine      Esmolol         1   \n",
       "2  Nifedipine  Terbutaline         1   \n",
       "3  Nifedipine   Bevantolol         1   \n",
       "4  Nifedipine    Practolol         1   \n",
       "\n",
       "                                        DDI sentence  num_of_words  \n",
       "0  The risk or severity of congestive heart failu...            19  \n",
       "1  The risk or severity of congestive heart failu...            19  \n",
       "2  The risk or severity of congestive heart failu...            19  \n",
       "3  The risk or severity of congestive heart failu...            19  \n",
       "4  The risk or severity of congestive heart failu...            19  "
      ]
     },
     "execution_count": 6,
     "metadata": {},
     "output_type": "execute_result"
    }
   ],
   "source": [
    "df['num_of_words'] = df['DDI sentence'].apply(lambda x: len(x.split()))\n",
    "df.head()"
   ]
  },
  {
   "cell_type": "code",
   "execution_count": 7,
   "id": "0cc692d8-c0fb-4d98-a7da-4ff61ff0e1e2",
   "metadata": {},
   "outputs": [],
   "source": [
    "# 删除 'DDI type' 列\n",
    "# df = df.drop('DDI type', axis=1)\n",
    "\n",
    "# 将结果保存为新的 CSV 文件\n",
    "df.to_csv('ddi_description.csv', index=False)\n"
   ]
  },
  {
   "cell_type": "code",
   "execution_count": null,
   "id": "667e629c-2667-4478-b621-9efb01de5ed3",
   "metadata": {},
   "outputs": [],
   "source": []
  }
 ],
 "metadata": {
  "kernelspec": {
   "display_name": "Python 3 (ipykernel)",
   "language": "python",
   "name": "python3"
  },
  "language_info": {
   "codemirror_mode": {
    "name": "ipython",
    "version": 3
   },
   "file_extension": ".py",
   "mimetype": "text/x-python",
   "name": "python",
   "nbconvert_exporter": "python",
   "pygments_lexer": "ipython3",
   "version": "3.8.10"
  }
 },
 "nbformat": 4,
 "nbformat_minor": 5
}
